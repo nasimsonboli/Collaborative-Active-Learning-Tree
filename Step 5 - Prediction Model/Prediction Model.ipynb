{
 "cells": [
  {
   "cell_type": "markdown",
   "metadata": {},
   "source": [
    "## FDTree Class"
   ]
  },
  {
   "cell_type": "code",
   "execution_count": 1,
   "metadata": {
    "scrolled": true
   },
   "outputs": [],
   "source": [
    "import time\n",
    "import klepto\n",
    "import shelve\n",
    "import pickle\n",
    "import h5py\n",
    "import numpy as np\n",
    "from scipy.sparse import *\n",
    "import matplotlib.pyplot as plt"
   ]
  },
  {
   "cell_type": "code",
   "execution_count": 2,
   "metadata": {},
   "outputs": [],
   "source": [
    "dataset = '1m'"
   ]
  },
  {
   "cell_type": "code",
   "execution_count": 3,
   "metadata": {},
   "outputs": [],
   "source": [
    "feature=h5py.File('movielens/test_list.mat')  \n",
    "test_list = feature['test_list'][:]\n",
    "test_list = list(map(int, test_list.T[0]))\n",
    "test_list = [i-1 for i in test_list] \n",
    "feature=h5py.File('movielens/train_list.mat')  \n",
    "train_list = feature['train_list'][:]\n",
    "train_list = list(map(int, train_list.T[0]))\n",
    "train_list = [i-1 for i in train_list] "
   ]
  },
  {
   "cell_type": "code",
   "execution_count": 4,
   "metadata": {},
   "outputs": [
    {
     "name": "stdout",
     "output_type": "stream",
     "text": [
      "file load DONE\n"
     ]
    }
   ],
   "source": [
    "rating_matrix_csc = load_npz('movielens/sparse_matrix_ml-' + dataset + '_selected.npz').tocsc()\n",
    "rating_matrix_csc_train = rating_matrix_csc[:, train_list]\n",
    "rating_matrix_csc_test  = rating_matrix_csc[:, test_list]\n",
    "print(\"file load DONE\")\n",
    "depth_threshold = 4"
   ]
  },
  {
   "cell_type": "code",
   "execution_count": 5,
   "metadata": {},
   "outputs": [],
   "source": [
    "with h5py.File('treeFile/lr_bound.mat') as data:\n",
    "    lr_bound_list = [data[element[0]][:] for element in data['lr_bound']]\n",
    "\n",
    "i = 0\n",
    "for i in range(len(lr_bound_list)):\n",
    "    level = lr_bound_list[i]\n",
    "    lr_bound_list[i] = []\n",
    "    level = list((level.T)[0])\n",
    "    for boundNum in range(0, len(level), 2):\n",
    "        lr_bound_list[i].append([int(level[boundNum]) - 1, int(level[boundNum + 1]) - 1])\n",
    "    i += 1\n",
    "\n",
    "lr_bound = {}\n",
    "for i in range(len(lr_bound_list)):\n",
    "    lr_bound[str(i)] = lr_bound_list[i]"
   ]
  },
  {
   "cell_type": "code",
   "execution_count": 6,
   "metadata": {},
   "outputs": [],
   "source": [
    "feature=h5py.File('treeFile/tree.mat')  \n",
    "tree = list(feature['tree'][:].T[0])\n",
    "tree = [i-1 for i in tree]"
   ]
  },
  {
   "cell_type": "markdown",
   "metadata": {},
   "source": [
    "## MF part"
   ]
  },
  {
   "cell_type": "code",
   "execution_count": 7,
   "metadata": {},
   "outputs": [],
   "source": [
    "from pyspark import SparkConf\n",
    "from pyspark import SparkContext\n",
    "from pyspark.mllib.recommendation import ALS\n",
    "\n",
    "class MatrixFactorization:\n",
    "    def __init__(self, maxIter=15, regParam=0.01, rank=10):\n",
    "        self.maxIter = maxIter\n",
    "        self.regParam = regParam\n",
    "        self.rank = rank\n",
    "        conf = SparkConf().setAppName(\"appName\").setMaster(\"local[*]\")\n",
    "        conf.set(\"spark.driver.memory\",\"8g\")\n",
    "        conf.set(\"spark.executor.memory\",\"8g\")\n",
    "        self.spark = SparkContext(conf=conf)                    \n",
    "        print(\"New SparkSession started...\")\n",
    "\n",
    "    def change_parameter(self, regParam):\n",
    "        self.regParam = regParam\n",
    "\n",
    "    def matrix_factorization(self, train_lst):\n",
    "        ratings = self.spark.parallelize(train_lst)\n",
    "        model = ALS.train(ratings, self.rank, seed=10, \\\n",
    "                          iterations=self.maxIter, \\\n",
    "                          lambda_=self.regParam)\n",
    "        print(\"MF DONE\")\n",
    "        userFeatures = sorted(model.userFeatures().collect(), key=lambda d: d[0], reverse=False)\n",
    "        productFeatures = sorted(model.productFeatures().collect(), key=lambda d: d[0], reverse=False)\n",
    "        userProfile = {each[0]: each[1].tolist() for each in userFeatures}\n",
    "        itemProfile = {each[0]: each[1].tolist() for each in productFeatures}\n",
    "        \n",
    "        \n",
    "        return userProfile, itemProfile\n",
    "\n",
    "    def end(self):\n",
    "        self.spark.stop()\n",
    "        print(\"SparkSession stopped.\")"
   ]
  },
  {
   "cell_type": "code",
   "execution_count": 8,
   "metadata": {},
   "outputs": [],
   "source": [
    "lambda_list = [0.005, 0.025, 0.05, 0.075, 0.10, 0.15, 0.20, 0.25, 0.30, 0.35, 0.40]"
   ]
  },
  {
   "cell_type": "code",
   "execution_count": 9,
   "metadata": {},
   "outputs": [
    {
     "name": "stdout",
     "output_type": "stream",
     "text": [
      "New SparkSession started...\n"
     ]
    }
   ],
   "source": [
    "MF = MatrixFactorization()"
   ]
  },
  {
   "cell_type": "code",
   "execution_count": 10,
   "metadata": {
    "scrolled": true
   },
   "outputs": [
    {
     "name": "stdout",
     "output_type": "stream",
     "text": [
      "level: 0\n",
      "Rating Number of level 0: 6040\n",
      "Current plambda: 0.005\n",
      "MF DONE\n",
      "Current RMSE: 1.02892730665\n",
      "Current plambda: 0.025\n",
      "MF DONE\n",
      "Current RMSE: 1.02888378957\n",
      "Current plambda: 0.05\n",
      "MF DONE\n",
      "Current RMSE: 1.02903817214\n",
      "Current plambda: 0.075\n",
      "MF DONE\n",
      "Current RMSE: 1.02969409904\n",
      "Current plambda: 0.1\n",
      "MF DONE\n",
      "Current RMSE: 1.03104686169\n",
      "Current plambda: 0.15\n",
      "MF DONE\n",
      "Current RMSE: 1.03602582432\n",
      "Current plambda: 0.2\n",
      "MF DONE\n",
      "Current RMSE: 1.04372391144\n",
      "Current plambda: 0.25\n",
      "MF DONE\n",
      "Current RMSE: 1.05368260066\n",
      "Current plambda: 0.3\n",
      "MF DONE\n",
      "Current RMSE: 1.06565164012\n",
      "Current plambda: 0.35\n",
      "MF DONE\n",
      "Current RMSE: 1.07953468376\n",
      "Current plambda: 0.4\n",
      "MF DONE\n",
      "Current RMSE: 1.09528678597\n",
      "min RMSE: 1.02888378957\n"
     ]
    },
    {
     "data": {
      "image/png": "[encoded data removed]",
      "text/plain": [
       "<matplotlib.figure.Figure at 0x7f73e0c3efd0>"
      ]
     },
     "metadata": {},
     "output_type": "display_data"
    },
    {
     "name": "stdout",
     "output_type": "stream",
     "text": [
      "level: 1\n",
      "Rating Number of level 1: 17960\n",
      "Current plambda: 0.005\n",
      "MF DONE\n",
      "Current RMSE: 1.01336452598\n",
      "Current plambda: 0.025\n",
      "MF DONE\n",
      "Current RMSE: 1.01185567314\n",
      "Current plambda: 0.05\n",
      "MF DONE\n",
      "Current RMSE: 1.01102202946\n",
      "Current plambda: 0.075\n",
      "MF DONE\n",
      "Current RMSE: 1.01142719632\n",
      "Current plambda: 0.1\n",
      "MF DONE\n",
      "Current RMSE: 1.01324484541\n",
      "Current plambda: 0.15\n",
      "MF DONE\n",
      "Current RMSE: 1.02125904377\n",
      "Current plambda: 0.2\n",
      "MF DONE\n",
      "Current RMSE: 1.03446883731\n",
      "Current plambda: 0.25\n",
      "MF DONE\n",
      "Current RMSE: 1.0470611903\n",
      "Current plambda: 0.3\n",
      "MF DONE\n",
      "Current RMSE: 1.05946448153\n",
      "Current plambda: 0.35\n",
      "MF DONE\n",
      "Current RMSE: 1.07367608223\n",
      "Current plambda: 0.4\n",
      "MF DONE\n",
      "Current RMSE: 1.0897297105\n",
      "min RMSE: 1.01102202946\n"
     ]
    },
    {
     "data": {
      "image/png": "[encoded data removed]",
      "text/plain": [
       "<matplotlib.figure.Figure at 0x7f73e027c518>"
      ]
     },
     "metadata": {},
     "output_type": "display_data"
    },
    {
     "name": "stdout",
     "output_type": "stream",
     "text": [
      "level: 2\n",
      "Rating Number of level 2: 49309\n",
      "Current plambda: 0.005\n",
      "MF DONE\n",
      "Current RMSE: 1.03488175713\n",
      "Current plambda: 0.025\n",
      "MF DONE\n",
      "Current RMSE: 1.00290942841\n",
      "Current plambda: 0.05\n",
      "MF DONE\n",
      "Current RMSE: 0.996111526985\n",
      "Current plambda: 0.075\n",
      "MF DONE\n",
      "Current RMSE: 0.993788342173\n",
      "Current plambda: 0.1\n",
      "MF DONE\n",
      "Current RMSE: 0.994495845518\n",
      "Current plambda: 0.15\n",
      "MF DONE\n",
      "Current RMSE: 1.00359016432\n",
      "Current plambda: 0.2\n",
      "MF DONE\n",
      "Current RMSE: 1.01546164539\n",
      "Current plambda: 0.25\n",
      "MF DONE\n",
      "Current RMSE: 1.02911836982\n",
      "Current plambda: 0.3\n",
      "MF DONE\n",
      "Current RMSE: 1.04154339052\n",
      "Current plambda: 0.35\n",
      "MF DONE\n",
      "Current RMSE: 1.05562886251\n",
      "Current plambda: 0.4\n",
      "MF DONE\n",
      "Current RMSE: 1.07154853583\n",
      "min RMSE: 0.993788342173\n"
     ]
    },
    {
     "data": {
      "image/png": "[encoded data removed]",
      "text/plain": [
       "<matplotlib.figure.Figure at 0x7f73bcf15898>"
      ]
     },
     "metadata": {},
     "output_type": "display_data"
    },
    {
     "name": "stdout",
     "output_type": "stream",
     "text": [
      "level: 3\n",
      "Rating Number of level 3: 115742\n",
      "Current plambda: 0.005\n",
      "MF DONE\n",
      "Current RMSE: 1.03308166681\n",
      "Current plambda: 0.025\n",
      "MF DONE\n",
      "Current RMSE: 1.01218834736\n",
      "Current plambda: 0.05\n",
      "MF DONE\n",
      "Current RMSE: 1.000884684\n",
      "Current plambda: 0.075\n",
      "MF DONE\n",
      "Current RMSE: 0.994849566724\n",
      "Current plambda: 0.1\n",
      "MF DONE\n",
      "Current RMSE: 0.992825918562\n",
      "Current plambda: 0.15\n",
      "MF DONE\n",
      "Current RMSE: 0.998791121665\n",
      "Current plambda: 0.2\n",
      "MF DONE\n",
      "Current RMSE: 1.01215171891\n",
      "Current plambda: 0.25\n",
      "MF DONE\n",
      "Current RMSE: 1.02583674152\n",
      "Current plambda: 0.3\n",
      "MF DONE\n",
      "Current RMSE: 1.03801175017\n",
      "Current plambda: 0.35\n",
      "MF DONE\n",
      "Current RMSE: 1.05201865652\n",
      "Current plambda: 0.4\n",
      "MF DONE\n",
      "Current RMSE: 1.06796596095\n",
      "min RMSE: 0.992825918562\n"
     ]
    },
    {
     "data": {
      "image/png": "[encoded data removed]",
      "text/plain": [
       "<matplotlib.figure.Figure at 0x7f73c138b7b8>"
      ]
     },
     "metadata": {},
     "output_type": "display_data"
    },
    {
     "name": "stdout",
     "output_type": "stream",
     "text": [
      "level: 4\n",
      "Rating Number of level 4: 231579\n",
      "Current plambda: 0.005\n",
      "MF DONE\n",
      "Current RMSE: 1.0248725323\n",
      "Current plambda: 0.025\n",
      "MF DONE\n",
      "Current RMSE: 1.00619648534\n",
      "Current plambda: 0.05\n",
      "MF DONE\n",
      "Current RMSE: 0.994682322837\n",
      "Current plambda: 0.075\n",
      "MF DONE\n",
      "Current RMSE: 0.988618763425\n",
      "Current plambda: 0.1\n",
      "MF DONE\n",
      "Current RMSE: 0.987229290053\n",
      "Current plambda: 0.15\n",
      "MF DONE\n",
      "Current RMSE: 0.995254649331\n",
      "Current plambda: 0.2\n",
      "MF DONE\n",
      "Current RMSE: 1.00962156115\n",
      "Current plambda: 0.25\n",
      "MF DONE\n",
      "Current RMSE: 1.02211752944\n",
      "Current plambda: 0.3\n",
      "MF DONE\n",
      "Current RMSE: 1.03364729171\n",
      "Current plambda: 0.35\n",
      "MF DONE\n",
      "Current RMSE: 1.0471470833\n",
      "Current plambda: 0.4\n",
      "MF DONE\n",
      "Current RMSE: 1.06267282832\n",
      "min RMSE: 0.987229290053\n"
     ]
    },
    {
     "data": {
      "image/png": "[encoded data removed]",
      "text/plain": [
       "<matplotlib.figure.Figure at 0x7f73bed97908>"
      ]
     },
     "metadata": {},
     "output_type": "display_data"
    }
   ],
   "source": [
    "prediction_model = {}\n",
    "rmst_dict = {\"0\":[],\"1\":[],\"2\":[],\"3\":[],\"4\":[],\"5\":[],\"6\":[],\"7\":[],\"8\":[],\"9\":[],\"10\":[]}\n",
    "min_rmse_list = []\n",
    "for level in range(depth_threshold + 1):\n",
    "    \n",
    "    with h5py.File('treeFile/targetNode_' + str(level + 1) + '.mat') as data:\n",
    "        targetNode = [data[element[0]][:] for element in data['targetNode']]\n",
    "    with h5py.File('treeFile/rated_user_' + str(level + 1) + '.mat') as data:\n",
    "        rated_users = [data[element[0]][:] for element in data['rated_user']]\n",
    "    \n",
    "    level = str(level)\n",
    "    print(\"level:\", level)    \n",
    "                   \n",
    "    prediction_model.setdefault(level, {})\n",
    "    train_lst = []    \n",
    "    \n",
    "    for pseudo_user_bound, userid in zip(lr_bound[level], range(len(lr_bound[level]))):\n",
    "        if pseudo_user_bound[0] > pseudo_user_bound[1]:\n",
    "            continue\n",
    "        pseudo_user_lst = tree[pseudo_user_bound[0]:(pseudo_user_bound[1] + 1)]\n",
    "        ratings_Pseudo_u2i = np.array(rating_matrix_csc_train[:, pseudo_user_lst].sum(axis=1))[:,0] / \\\n",
    "                                     (rating_matrix_csc_train[:, pseudo_user_lst].getnnz(axis=1)+1e-9)\n",
    "        train_lst += [(userid, itemid, float(ratings_Pseudo_u2i[itemid])) \\\n",
    "                      for itemid in range(ratings_Pseudo_u2i.shape[0]) if ratings_Pseudo_u2i[itemid]]        \n",
    "\n",
    "    print(\"Rating Number of level \" + level + \": \" + str(len(train_lst)))\n",
    "    \n",
    "    #### Train MF and Do validation ####\n",
    "    min_RMSE = -1\n",
    "    user_profile_list = []\n",
    "    item_profile_list = []\n",
    "    for plambda in lambda_list:\n",
    "        print(\"Current plambda: \" + str(plambda))\n",
    "        MF.change_parameter(plambda)\n",
    "        user_profile, item_profile = MF.matrix_factorization(train_lst)\n",
    "        user_profile_list.append(user_profile)\n",
    "        item_profile_list.append(item_profile)\n",
    "        prediction_model[level]['upro'], prediction_model[level]['ipro'], prediction_model[level]['plambda'] \\\n",
    "                                         = user_profile, item_profile, plambda\n",
    "        rmse = 0\n",
    "        rmseNum = 0\n",
    "        for userid in range(rating_matrix_csc_test.shape[1]):\n",
    "    #         if userid % 100 == 0:\n",
    "    #             print(\"%.2f%%\" % (100 * userid / rating_matrix_csc_test.shape[1]))  \n",
    "    \n",
    "            pred_index = int(targetNode[userid].T[0][1]) - 1\n",
    "            final_level = int(targetNode[userid].T[0][0]) - 1\n",
    "            if rated_users[userid].sum() == 0:\n",
    "                rated_item = []\n",
    "            else:\n",
    "                rated_item = [int(i-1) for i in list(set(rated_users[userid][0]))]\n",
    "            \n",
    "            pred_rating = np.dot(np.array(prediction_model[str(final_level)]['upro'][pred_index]), \\\n",
    "                                 np.array(list(prediction_model[str(final_level)]['ipro'].values())).T) \n",
    "            real_rating = rating_matrix_csc_test[:, userid].toarray()\n",
    "            \n",
    "            non_zeros = list(np.nonzero(real_rating)[0])\n",
    "            non_zeros = list(set(non_zeros).difference(set(rated_item)))\n",
    "            non_zerosNum = pred_rating[non_zeros].shape[0]\n",
    "            rmse += np.sum((pred_rating[non_zeros].T.reshape(non_zerosNum, 1)-real_rating[non_zeros])**2)\n",
    "            rmseNum += len(non_zeros)\n",
    "            \n",
    "        RMSE = (rmse/rmseNum)**0.5\n",
    "        print(\"Current RMSE: \" + str(RMSE))\n",
    "        rmst_dict[level].append(RMSE)\n",
    "        \n",
    "    min_MF = rmst_dict[level].index(min(rmst_dict[level]))   \n",
    "    prediction_model[level]['upro'] = user_profile_list[min_MF]\n",
    "    prediction_model[level]['ipro'] = item_profile_list[min_MF]\n",
    "    prediction_model[level]['plambda'] = lambda_list[min_MF]\n",
    "    print(\"min RMSE: \" + str(min(rmst_dict[level])))\n",
    "    min_rmse_list.append(min(rmst_dict[level]))\n",
    "    \n",
    "    plt.figure(1)\n",
    "    plt.title('RMSE for level ' + level)\n",
    "    plt.xlabel('plambda')\n",
    "    plt.ylabel('RMSE')\n",
    "    plt.plot(lambda_list, rmst_dict[level])\n",
    "    plt.show()"
   ]
  },
  {
   "cell_type": "code",
   "execution_count": 11,
   "metadata": {
    "scrolled": true
   },
   "outputs": [
    {
     "name": "stdout",
     "output_type": "stream",
     "text": [
      "SparkSession stopped.\n"
     ]
    }
   ],
   "source": [
    "MF.end()"
   ]
  },
  {
   "cell_type": "code",
   "execution_count": 12,
   "metadata": {},
   "outputs": [],
   "source": [
    "import klepto\n",
    "Tree = klepto.archives.dir_archive('treeFile', cached=True, serialized=True)\n",
    "Tree['prediction_model'] = prediction_model\n",
    "Tree.dump()\n",
    "Tree.clear()"
   ]
  },
  {
   "cell_type": "code",
   "execution_count": 13,
   "metadata": {},
   "outputs": [
    {
     "data": {
      "image/png": "[encoded data removed]",
      "text/plain": [
       "<matplotlib.figure.Figure at 0x7f73beaf15f8>"
      ]
     },
     "metadata": {},
     "output_type": "display_data"
    }
   ],
   "source": [
    "plt.figure(1)\n",
    "plt.xlabel('min RMSE')\n",
    "plt.ylabel('level')\n",
    "plt.plot(list(range(5)), min_rmse_list)\n",
    "plt.show()"
   ]
  }
 ],
 "metadata": {
  "kernelspec": {
   "display_name": "Python 3",
   "language": "python",
   "name": "python3"
  },
  "language_info": {
   "codemirror_mode": {
    "name": "ipython",
    "version": 3
   },
   "file_extension": ".py",
   "mimetype": "text/x-python",
   "name": "python",
   "nbconvert_exporter": "python",
   "pygments_lexer": "ipython3",
   "version": "3.6.2"
  }
 },
 "nbformat": 4,
 "nbformat_minor": 1
}
