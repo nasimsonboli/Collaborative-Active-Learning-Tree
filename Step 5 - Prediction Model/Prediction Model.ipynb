{
 "cells": [
  {
   "cell_type": "code",
   "execution_count": 1,
   "metadata": {
    "collapsed": true,
    "scrolled": true
   },
   "outputs": [],
   "source": [
    "import time\n",
    "import klepto\n",
    "import shelve\n",
    "import pickle\n",
    "import h5py\n",
    "import numpy as np\n",
    "import scipy.io as sio\n",
    "from scipy.sparse import *\n",
    "import matplotlib.pyplot as plt"
   ]
  },
  {
   "cell_type": "markdown",
   "metadata": {},
   "source": [
    "## Load"
   ]
  },
  {
   "cell_type": "code",
   "execution_count": 2,
   "metadata": {
    "collapsed": true
   },
   "outputs": [],
   "source": [
    "dataset = '1m'"
   ]
  },
  {
   "cell_type": "markdown",
   "metadata": {},
   "source": [
    "- load train_list & test_list"
   ]
  },
  {
   "cell_type": "code",
   "execution_count": 3,
   "metadata": {
    "collapsed": true
   },
   "outputs": [],
   "source": [
    "feature=h5py.File('movielens/' + dataset + '/test_list.mat')  \n",
    "test_list = feature['test_list'][:]\n",
    "test_list = list(map(int, test_list.T[0]))\n",
    "test_list = [i-1 for i in test_list] \n",
    "feature=h5py.File('movielens/' + dataset + '/train_list.mat')  \n",
    "train_list = feature['train_list'][:]\n",
    "train_list = list(map(int, train_list.T[0]))\n",
    "train_list = [i-1 for i in train_list] "
   ]
  },
  {
   "cell_type": "markdown",
   "metadata": {},
   "source": [
    "- load full sparse matrix"
   ]
  },
  {
   "cell_type": "code",
   "execution_count": 4,
   "metadata": {},
   "outputs": [
    {
     "name": "stdout",
     "output_type": "stream",
     "text": [
      "file load DONE\n"
     ]
    }
   ],
   "source": [
    "rating_matrix = load_npz('movielens/sparse_matrix_ml-' + dataset + '_selected.npz').tocsc()\n",
    "rating_matrix_train = rating_matrix[:, train_list]\n",
    "rating_matrix_test  = rating_matrix[:, test_list]\n",
    "print(\"file load DONE\")"
   ]
  },
  {
   "cell_type": "markdown",
   "metadata": {},
   "source": [
    "- load tree file: lr_bound & tree"
   ]
  },
  {
   "cell_type": "code",
   "execution_count": 5,
   "metadata": {
    "collapsed": true
   },
   "outputs": [],
   "source": [
    "with h5py.File('treeFile/lr_bound.mat') as data:\n",
    "    lr_bound_list = [data[element[0]][:] for element in data['lr_bound']]\n",
    "\n",
    "depth_threshold = len(lr_bound_list)\n",
    "i = 0\n",
    "for i in range(len(lr_bound_list)):\n",
    "    level = lr_bound_list[i]\n",
    "    lr_bound_list[i] = []\n",
    "    level = list((level.T)[0])\n",
    "    for boundNum in range(0, len(level), 2):\n",
    "        lr_bound_list[i].append([int(level[boundNum]) - 1, int(level[boundNum + 1]) - 1])\n",
    "    i += 1\n",
    "\n",
    "lr_bound = {}\n",
    "for i in range(len(lr_bound_list)):\n",
    "    lr_bound[str(i)] = lr_bound_list[i]"
   ]
  },
  {
   "cell_type": "code",
   "execution_count": 6,
   "metadata": {
    "collapsed": true
   },
   "outputs": [],
   "source": [
    "feature=h5py.File('treeFile/tree.mat')  \n",
    "tree = list(feature['tree'][:].T[0])\n",
    "tree = [i-1 for i in tree]"
   ]
  },
  {
   "cell_type": "markdown",
   "metadata": {},
   "source": [
    "## MF part"
   ]
  },
  {
   "cell_type": "code",
   "execution_count": 7,
   "metadata": {
    "collapsed": true
   },
   "outputs": [],
   "source": [
    "from pyspark import SparkConf\n",
    "from pyspark import SparkContext\n",
    "from pyspark.mllib.recommendation import ALS\n",
    "\n",
    "class MatrixFactorization:\n",
    "    def __init__(self, maxIter=15, regParam=0.01, rank=10):\n",
    "        self.maxIter = maxIter\n",
    "        self.regParam = regParam\n",
    "        self.rank = rank\n",
    "        conf = SparkConf().setAppName(\"appName\").setMaster(\"local[*]\")\n",
    "        conf.set(\"spark.driver.memory\",\"8g\")\n",
    "        conf.set(\"spark.executor.memory\",\"8g\")\n",
    "        self.spark = SparkContext.getOrCreate(conf=conf)                    \n",
    "        print(\"New SparkSession started...\")\n",
    "\n",
    "    def change_parameter(self, regParam):\n",
    "        self.regParam = regParam\n",
    "\n",
    "    def matrix_factorization(self, train_lst):\n",
    "        ratings = self.spark.parallelize(train_lst)\n",
    "        model = ALS.train(ratings, self.rank, seed=10, \\\n",
    "                          iterations=self.maxIter, \\\n",
    "                          lambda_=self.regParam)\n",
    "        print(\"MF DONE\")\n",
    "        productFeatures = sorted(model.userFeatures().collect(), key=lambda d: d[0], reverse=False)\n",
    "        userFeatures = sorted(model.productFeatures().collect(), key=lambda d: d[0], reverse=False)\n",
    "        itemProfile = {each[0]: each[1].tolist() for each in productFeatures}\n",
    "        userProfile = {each[0]: each[1].tolist() for each in userFeatures}\n",
    "             \n",
    "        return userProfile, itemProfile\n",
    "\n",
    "    def end(self):\n",
    "        self.spark.stop()\n",
    "        print(\"SparkSession stopped.\")"
   ]
  },
  {
   "cell_type": "code",
   "execution_count": 8,
   "metadata": {
    "collapsed": true
   },
   "outputs": [],
   "source": [
    "lambda_list = [0.005, 0.025, 0.05, 0.075, 0.10, 0.11, 0.12, 0.13, 0.14, 0.15, 0.20, 0.25]"
   ]
  },
  {
   "cell_type": "code",
   "execution_count": 9,
   "metadata": {
    "scrolled": true
   },
   "outputs": [
    {
     "name": "stdout",
     "output_type": "stream",
     "text": [
      "New SparkSession started...\n"
     ]
    }
   ],
   "source": [
    "MF = MatrixFactorization()"
   ]
  },
  {
   "cell_type": "code",
   "execution_count": null,
   "metadata": {
    "scrolled": false
   },
   "outputs": [
    {
     "name": "stdout",
     "output_type": "stream",
     "text": [
      "level: 0\n",
      "Rating Number of level 0: 6040\n",
      "Current plambda: 0.005\n",
      "MF DONE\n",
      "Current RMSE: 1.02892730665\n",
      "Current plambda: 0.025\n",
      "MF DONE\n",
      "Current RMSE: 1.02888378957\n",
      "Current plambda: 0.05\n",
      "MF DONE\n",
      "Current RMSE: 1.02903817214\n",
      "Current plambda: 0.075\n",
      "MF DONE\n",
      "Current RMSE: 1.02969409904\n",
      "Current plambda: 0.1\n",
      "MF DONE\n",
      "Current RMSE: 1.03104686169\n",
      "Current plambda: 0.11\n",
      "MF DONE\n",
      "Current RMSE: 1.03180204603\n",
      "Current plambda: 0.12\n",
      "MF DONE\n",
      "Current RMSE: 1.03268026866\n",
      "Current plambda: 0.13\n",
      "MF DONE\n",
      "Current RMSE: 1.03367933538\n",
      "Current plambda: 0.14\n",
      "MF DONE\n",
      "Current RMSE: 1.03479590064\n",
      "Current plambda: 0.15\n",
      "MF DONE\n",
      "Current RMSE: 1.03602582432\n",
      "Current plambda: 0.2\n",
      "MF DONE\n",
      "Current RMSE: 1.04372391144\n",
      "Current plambda: 0.25\n",
      "MF DONE\n",
      "Current RMSE: 1.05368260066\n",
      "min RMSE: 1.02888378957\n"
     ]
    },
    {
     "data": {
      "image/png": "[encoded data removed]",
      "text/plain": [
       "<matplotlib.figure.Figure at 0x1a0a4a007b8>"
      ]
     },
     "metadata": {},
     "output_type": "display_data"
    },
    {
     "name": "stdout",
     "output_type": "stream",
     "text": [
      "level: 1\n",
      "Rating Number of level 1: 17751\n",
      "Current plambda: 0.005\n",
      "MF DONE\n",
      "Current RMSE: 0.943850049087\n",
      "Current plambda: 0.025\n",
      "MF DONE\n",
      "Current RMSE: 0.942295130299\n",
      "Current plambda: 0.05\n",
      "MF DONE\n",
      "Current RMSE: 0.941561580427\n",
      "Current plambda: 0.075\n",
      "MF DONE\n",
      "Current RMSE: 0.942343128109\n",
      "Current plambda: 0.1\n",
      "MF DONE\n",
      "Current RMSE: 0.944787703577\n",
      "Current plambda: 0.11\n",
      "MF DONE\n",
      "Current RMSE: 0.946240422526\n",
      "Current plambda: 0.12\n",
      "MF DONE\n",
      "Current RMSE: 0.947958689151\n",
      "Current plambda: 0.13\n",
      "MF DONE\n",
      "Current RMSE: 0.94993509512\n",
      "Current plambda: 0.14\n",
      "MF DONE\n",
      "Current RMSE: 0.952160752007\n",
      "Current plambda: 0.15\n",
      "MF DONE\n",
      "Current RMSE: 0.95462599663\n",
      "Current plambda: 0.2\n",
      "MF DONE\n",
      "Current RMSE: 0.970192133045\n",
      "Current plambda: 0.25\n",
      "MF DONE\n",
      "Current RMSE: 0.988397458026\n",
      "min RMSE: 0.941561580427\n"
     ]
    },
    {
     "data": {
      "image/png": "[encoded data removed]",
      "text/plain": [
       "<matplotlib.figure.Figure at 0x1a0a6b30b00>"
      ]
     },
     "metadata": {},
     "output_type": "display_data"
    },
    {
     "name": "stdout",
     "output_type": "stream",
     "text": [
      "level: 2\n",
      "Rating Number of level 2: 47814\n",
      "Current plambda: 0.005\n",
      "MF DONE\n",
      "Current RMSE: 0.970046770741\n",
      "Current plambda: 0.025\n",
      "MF DONE\n",
      "Current RMSE: 0.947115602307\n",
      "Current plambda: 0.05\n",
      "MF DONE\n",
      "Current RMSE: 0.940140649361\n",
      "Current plambda: 0.075\n",
      "MF DONE\n",
      "Current RMSE: 0.937993464206\n",
      "Current plambda: 0.1\n",
      "MF DONE\n",
      "Current RMSE: 0.93888056327\n",
      "Current plambda: 0.11\n",
      "MF DONE\n",
      "Current RMSE: 0.940109136121\n",
      "Current plambda: 0.12\n",
      "MF DONE\n",
      "Current RMSE: 0.941841396306\n",
      "Current plambda: 0.13\n",
      "MF DONE\n",
      "Current RMSE: 0.943926633491\n",
      "Current plambda: 0.14\n",
      "MF DONE\n",
      "Current RMSE: 0.945941052339\n",
      "Current plambda: 0.15\n",
      "MF DONE\n",
      "Current RMSE: 0.94823287542\n",
      "Current plambda: 0.2\n"
     ]
    }
   ],
   "source": [
    "prediction_model = {}\n",
    "rmst_dict = {\"0\":[],\"1\":[],\"2\":[],\"3\":[],\"4\":[],\"5\":[],\"6\":[],\"7\":[],\"8\":[],\"9\":[],\"10\":[]}\n",
    "min_rmse_list = []\n",
    "\n",
    "for level in range(depth_threshold):\n",
    "    \n",
    "    with h5py.File('treeFile/targetNode_' + str(level + 1) + '.mat') as data:\n",
    "        targetNode = [data[element[0]][:] for element in data['targetNode']]\n",
    "    with h5py.File('treeFile/rated_user_' + str(level + 1) + '.mat') as data:\n",
    "        rated_users = [data[element[0]][:] for element in data['rated_user']]\n",
    "    \n",
    "    level = str(level)\n",
    "    print(\"level:\", level)    \n",
    "                   \n",
    "    prediction_model.setdefault(level, {})\n",
    "    train_lst = []    \n",
    "    \n",
    "    for pseudo_item_bound, itemid in zip(lr_bound[level], range(len(lr_bound[level]))):\n",
    "        if pseudo_item_bound[0] > pseudo_item_bound[1]:\n",
    "            continue\n",
    "        pseudo_item_lst = tree[pseudo_item_bound[0]:(pseudo_item_bound[1] + 1)]\n",
    "        pseudo_matrix = np.array(rating_matrix_train[:, pseudo_item_lst].sum(axis=1))[:,0] / \\\n",
    "                                     (rating_matrix_train[:, pseudo_item_lst].getnnz(axis=1)+1e-9)\n",
    "        train_lst += [(itemid, userid, float(pseudo_matrix[userid])) \\\n",
    "                      for userid in range(pseudo_matrix.shape[0]) if pseudo_matrix[userid]]        \n",
    "\n",
    "    print(\"Rating Number of level \" + level + \": \" + str(len(train_lst)))\n",
    "    \n",
    "    #### Train MF and Do validation ####\n",
    "    min_RMSE = -1\n",
    "    user_profile_list = []\n",
    "    item_profile_list = []\n",
    "    for plambda in lambda_list:\n",
    "        print(\"Current plambda: \" + str(plambda))\n",
    "        MF.change_parameter(plambda)\n",
    "        user_profile, item_profile = MF.matrix_factorization(train_lst)\n",
    "        user_profile_list.append(user_profile)\n",
    "        item_profile_list.append(item_profile)\n",
    "        prediction_model[level]['P'], prediction_model[level]['plambda'] \\\n",
    "                                         = np.dot(np.array(list(user_profile.values())), np.array(list(item_profile.values())).T), plambda\n",
    "            \n",
    "        P_test = np.zeros(rating_matrix_test.shape)\n",
    "        rating_matrix_test_unqueried = rating_matrix_test.toarray()\n",
    "        for itemid in range(rating_matrix_test.shape[1]):\n",
    "#             if itemid  % 2000 == 0:\n",
    "#                 print(\"%.2f%%\" % (100 * itemid / rating_matrix_test.shape[1]))      \n",
    "            pred_index = int(targetNode[itemid].T[0][1]) - 1\n",
    "            final_level = int(targetNode[itemid].T[0][0]) - 1\n",
    "            if rated_users[itemid].sum() == 0 or np.sum(rated_users[itemid] == [1, 0]):\n",
    "                rated_user = []\n",
    "            else:\n",
    "                rated_user = [int(i-1) for i in list(set(rated_users[itemid][0]))]\n",
    "                \n",
    "            P_test[:, itemid] = prediction_model[str(final_level)]['P'][:, pred_index]\n",
    "            rating_matrix_test_unqueried[rated_user, itemid] = 0\n",
    "\n",
    "        rating_matrix_test_unqueried = csc_matrix(rating_matrix_test_unqueried)\n",
    "        P_test = (rating_matrix_test_unqueried!=0).multiply(P_test)\n",
    "        dif = P_test - rating_matrix_test_unqueried\n",
    "        RMSE = ( dif.multiply(dif).sum() / (rating_matrix_test_unqueried!=0).sum() )**0.5\n",
    "        print(\"Current RMSE: \" + str(RMSE))\n",
    "        rmst_dict[level].append(RMSE)\n",
    "        \n",
    "    min_MF = rmst_dict[level].index(min(rmst_dict[level]))   \n",
    "    prediction_model[level]['upro'] = user_profile_list[min_MF]\n",
    "    prediction_model[level]['ipro'] = item_profile_list[min_MF]\n",
    "    prediction_model[level]['plambda'] = lambda_list[min_MF]\n",
    "    print(\"min RMSE: \" + str(min(rmst_dict[level])))\n",
    "    min_rmse_list.append(min(rmst_dict[level]))\n",
    "    \n",
    "    plt.figure(1)\n",
    "    plt.title('RMSE for level ' + level)\n",
    "    plt.xlabel('plambda')\n",
    "    plt.ylabel('RMSE')\n",
    "    plt.plot(lambda_list, rmst_dict[level])\n",
    "    plt.show()"
   ]
  },
  {
   "cell_type": "code",
   "execution_count": null,
   "metadata": {
    "collapsed": true,
    "scrolled": true
   },
   "outputs": [],
   "source": [
    "MF.end()"
   ]
  },
  {
   "cell_type": "code",
   "execution_count": null,
   "metadata": {
    "collapsed": true
   },
   "outputs": [],
   "source": [
    "import klepto\n",
    "Tree = klepto.archives.dir_archive('treeFile', cached=True, serialized=True)\n",
    "Tree['prediction_model'] = prediction_model\n",
    "Tree.dump()\n",
    "Tree.clear()"
   ]
  },
  {
   "cell_type": "code",
   "execution_count": null,
   "metadata": {
    "collapsed": true
   },
   "outputs": [],
   "source": [
    "plt.figure(1)\n",
    "plt.xlabel('level')\n",
    "plt.ylabel('min RMSE')\n",
    "plt.plot(list(range(depth_threshold)), min_rmse_list)\n",
    "plt.show()"
   ]
  },
  {
   "cell_type": "code",
   "execution_count": null,
   "metadata": {
    "collapsed": true
   },
   "outputs": [],
   "source": [
    "for i in range(depth_threshold):\n",
    "    sio.savemat('rmse_list' + str(i) + '.mat', {'rmse_list': rmst_dict[str(i)]})"
   ]
  },
  {
   "cell_type": "code",
   "execution_count": null,
   "metadata": {
    "collapsed": true
   },
   "outputs": [],
   "source": [
    "sio.savemat('min_rmse_list.mat', {'min_rmse_list':min_rmse_list})"
   ]
  },
  {
   "cell_type": "code",
   "execution_count": null,
   "metadata": {
    "collapsed": true
   },
   "outputs": [],
   "source": []
  }
 ],
 "metadata": {
  "kernelspec": {
   "display_name": "Python 3",
   "language": "python",
   "name": "python3"
  },
  "language_info": {
   "codemirror_mode": {
    "name": "ipython",
    "version": 3
   },
   "file_extension": ".py",
   "mimetype": "text/x-python",
   "name": "python",
   "nbconvert_exporter": "python",
   "pygments_lexer": "ipython3",
   "version": "3.5.0"
  }
 },
 "nbformat": 4,
 "nbformat_minor": 1
}
