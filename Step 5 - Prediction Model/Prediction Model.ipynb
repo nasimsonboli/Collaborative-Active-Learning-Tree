{
 "cells": [
  {
   "cell_type": "code",
   "execution_count": 1,
   "metadata": {
    "collapsed": true,
    "scrolled": true
   },
   "outputs": [],
   "source": [
    "import time\n",
    "import klepto\n",
    "import shelve\n",
    "import pickle\n",
    "import h5py\n",
    "import numpy as np\n",
    "import scipy.io as sio\n",
    "from scipy.sparse import *\n",
    "import matplotlib.pyplot as plt"
   ]
  },
  {
   "cell_type": "markdown",
   "metadata": {},
   "source": [
    "## Load"
   ]
  },
  {
   "cell_type": "code",
   "execution_count": 2,
   "metadata": {
    "collapsed": true
   },
   "outputs": [],
   "source": [
    "dataset = '20m'"
   ]
  },
  {
   "cell_type": "markdown",
   "metadata": {},
   "source": [
    "- load train_list & test_list"
   ]
  },
  {
   "cell_type": "code",
   "execution_count": 3,
   "metadata": {
    "collapsed": true
   },
   "outputs": [],
   "source": [
    "feature=h5py.File('movielens/' + dataset + '/test_list.mat')  \n",
    "test_list = feature['test_list'][:]\n",
    "test_list = list(map(int, test_list.T[0]))\n",
    "test_list = [i-1 for i in test_list] \n",
    "feature=h5py.File('movielens/' + dataset + '/train_list.mat')  \n",
    "train_list = feature['train_list'][:]\n",
    "train_list = list(map(int, train_list.T[0]))\n",
    "train_list = [i-1 for i in train_list] "
   ]
  },
  {
   "cell_type": "code",
   "execution_count": 4,
   "metadata": {
    "collapsed": true
   },
   "outputs": [],
   "source": [
    "feature.close()"
   ]
  },
  {
   "cell_type": "markdown",
   "metadata": {},
   "source": [
    "- load full sparse matrix"
   ]
  },
  {
   "cell_type": "code",
   "execution_count": 5,
   "metadata": {},
   "outputs": [
    {
     "name": "stdout",
     "output_type": "stream",
     "text": [
      "file load DONE\n"
     ]
    }
   ],
   "source": [
    "rating_matrix = load_npz('movielens/sparse_matrix_ml-' + dataset + '_selected.npz').tocsc()\n",
    "rating_matrix_train = rating_matrix[:, train_list]\n",
    "rating_matrix_test  = rating_matrix[:, test_list]\n",
    "print(\"file load DONE\")"
   ]
  },
  {
   "cell_type": "markdown",
   "metadata": {},
   "source": [
    "- load tree file: lr_bound & tree"
   ]
  },
  {
   "cell_type": "code",
   "execution_count": 6,
   "metadata": {
    "collapsed": true,
    "scrolled": true
   },
   "outputs": [],
   "source": [
    "with h5py.File('treeFile/lr_bound.mat') as data:\n",
    "    lr_bound_list = [data[element[0]][:] for element in data['lr_bound']]\n",
    "\n",
    "depth_threshold = len(lr_bound_list)\n",
    "i = 0\n",
    "for i in range(len(lr_bound_list)):\n",
    "    level = lr_bound_list[i]\n",
    "    lr_bound_list[i] = []\n",
    "    level = list((level.T)[0])\n",
    "    for boundNum in range(0, len(level), 2):\n",
    "        lr_bound_list[i].append([int(level[boundNum]) - 1, int(level[boundNum + 1]) - 1])\n",
    "    i += 1\n",
    "\n",
    "lr_bound = {}\n",
    "for i in range(len(lr_bound_list)):\n",
    "    lr_bound[str(i)] = lr_bound_list[i]"
   ]
  },
  {
   "cell_type": "code",
   "execution_count": 7,
   "metadata": {
    "collapsed": true,
    "scrolled": true
   },
   "outputs": [],
   "source": [
    "feature=h5py.File('treeFile/tree.mat')  \n",
    "tree = list(feature['tree'][:].T[0])\n",
    "tree = [i-1 for i in tree]"
   ]
  },
  {
   "cell_type": "markdown",
   "metadata": {},
   "source": [
    "## MF part"
   ]
  },
  {
   "cell_type": "code",
   "execution_count": 8,
   "metadata": {
    "collapsed": true
   },
   "outputs": [],
   "source": [
    "from pyspark import SparkConf\n",
    "from pyspark import SparkContext\n",
    "from pyspark.mllib.recommendation import ALS\n",
    "\n",
    "class MatrixFactorization:\n",
    "    def __init__(self, maxIter=15, regParam=0.01, rank=10):\n",
    "        self.maxIter = maxIter\n",
    "        self.regParam = regParam\n",
    "        self.rank = rank\n",
    "        conf = SparkConf().setAppName(\"appName\").setMaster(\"local[*]\")\n",
    "        conf.set(\"spark.driver.memory\",\"14g\")\n",
    "        conf.set(\"spark.executor.memory\",\"14g\")       \n",
    "        self.spark = SparkContext(conf=conf)            \n",
    "        print(\"New SparkSession started...\")\n",
    "\n",
    "    def change_parameter(self, regParam):\n",
    "        self.regParam = regParam\n",
    "\n",
    "    def matrix_factorization(self, train_lst):\n",
    "        ratings = self.spark.parallelize(train_lst)\n",
    "        model = ALS.train(ratings, self.rank, seed=10, \\\n",
    "                          iterations=self.maxIter, \\\n",
    "                          lambda_=self.regParam)\n",
    "        print(\"MF DONE\")\n",
    "        productFeatures = sorted(model.userFeatures().collect(), key=lambda d: d[0], reverse=False)\n",
    "        userFeatures = sorted(model.productFeatures().collect(), key=lambda d: d[0], reverse=False)\n",
    "        itemProfile = {each[0]: each[1].tolist() for each in productFeatures}\n",
    "        userProfile = {each[0]: each[1].tolist() for each in userFeatures}\n",
    "             \n",
    "        return userProfile, itemProfile\n",
    "\n",
    "    def end(self):\n",
    "        self.spark.stop()\n",
    "        print(\"SparkSession stopped.\")"
   ]
  },
  {
   "cell_type": "code",
   "execution_count": 9,
   "metadata": {
    "collapsed": true
   },
   "outputs": [],
   "source": [
    "lambda_list = [0.005, 0.025, 0.05, 0.06, 0.08, 0.09, 0.10, 0.11, 0.12, 0.13, 0.14, 0.15]"
   ]
  },
  {
   "cell_type": "code",
   "execution_count": 13,
   "metadata": {},
   "outputs": [
    {
     "name": "stdout",
     "output_type": "stream",
     "text": [
      "New SparkSession started...\n"
     ]
    }
   ],
   "source": [
    "MF = MatrixFactorization()"
   ]
  },
  {
   "cell_type": "code",
   "execution_count": 14,
   "metadata": {
    "scrolled": true
   },
   "outputs": [
    {
     "name": "stdout",
     "output_type": "stream",
     "text": [
      "level: 0\n",
      "Rating Number of level 0: 138493\n",
      "Current plambda: 0.005\n",
      "MF DONE\n",
      "Current RMSE: 0.968441530361\n",
      "--------------------------------\n",
      "Current plambda: 0.025\n",
      "MF DONE\n",
      "Current RMSE: 0.968567568721\n",
      "--------------------------------\n",
      "Current plambda: 0.05\n",
      "MF DONE\n",
      "Current RMSE: 0.969076788661\n",
      "--------------------------------\n",
      "Current plambda: 0.075\n",
      "MF DONE\n",
      "Current RMSE: 0.970228795364\n",
      "--------------------------------\n",
      "Current plambda: 0.1\n",
      "MF DONE\n",
      "Current RMSE: 0.972187421946\n",
      "--------------------------------\n",
      "Current plambda: 0.11\n",
      "MF DONE\n",
      "Current RMSE: 0.973207692032\n",
      "--------------------------------\n",
      "Current plambda: 0.12\n",
      "MF DONE\n",
      "Current RMSE: 0.974360853303\n",
      "--------------------------------\n",
      "Current plambda: 0.13\n",
      "MF DONE\n",
      "Current RMSE: 0.975642931808\n",
      "--------------------------------\n",
      "Current plambda: 0.14\n",
      "MF DONE\n",
      "Current RMSE: 0.977049035003\n",
      "--------------------------------\n",
      "Current plambda: 0.15\n",
      "MF DONE\n",
      "Current RMSE: 0.978573809656\n",
      "--------------------------------\n",
      "min RMSE: 0.968441530361\n"
     ]
    },
    {
     "data": {
      "image/png": "[encoded data removed]",
      "text/plain": [
       "<matplotlib.figure.Figure at 0x1f56f6f40f0>"
      ]
     },
     "metadata": {},
     "output_type": "display_data"
    },
    {
     "name": "stdout",
     "output_type": "stream",
     "text": [
      "level: 1\n",
      "Rating Number of level 1: 398587\n",
      "Current plambda: 0.005\n",
      "MF DONE\n",
      "Current RMSE: 0.907907843432\n",
      "--------------------------------\n",
      "Current plambda: 0.025\n",
      "MF DONE\n",
      "Current RMSE: 0.906594652132\n",
      "--------------------------------\n",
      "Current plambda: 0.05\n",
      "MF DONE\n",
      "Current RMSE: 0.906537666122\n",
      "--------------------------------\n",
      "Current plambda: 0.075\n",
      "MF DONE\n",
      "Current RMSE: 0.908136449987\n",
      "--------------------------------\n",
      "Current plambda: 0.1\n",
      "MF DONE\n",
      "Current RMSE: 0.91147318811\n",
      "--------------------------------\n",
      "Current plambda: 0.11\n",
      "MF DONE\n",
      "Current RMSE: 0.913296048212\n",
      "--------------------------------\n",
      "Current plambda: 0.12\n",
      "MF DONE\n",
      "Current RMSE: 0.915389813091\n",
      "--------------------------------\n",
      "Current plambda: 0.13\n",
      "MF DONE\n",
      "Current RMSE: 0.917745732858\n",
      "--------------------------------\n",
      "Current plambda: 0.14\n",
      "MF DONE\n",
      "Current RMSE: 0.920353619705\n",
      "--------------------------------\n",
      "Current plambda: 0.15\n",
      "MF DONE\n",
      "Current RMSE: 0.923202509009\n",
      "--------------------------------\n",
      "min RMSE: 0.906537666122\n"
     ]
    },
    {
     "data": {
      "image/png": "[encoded data removed]",
      "text/plain": [
       "<matplotlib.figure.Figure at 0x1f589efe940>"
      ]
     },
     "metadata": {},
     "output_type": "display_data"
    },
    {
     "name": "stdout",
     "output_type": "stream",
     "text": [
      "level: 2\n",
      "Rating Number of level 2: 1066267\n",
      "Current plambda: 0.005\n",
      "MF DONE\n",
      "Current RMSE: 0.924392101914\n",
      "--------------------------------\n",
      "Current plambda: 0.025\n",
      "MF DONE\n",
      "Current RMSE: 0.89660514411\n",
      "--------------------------------\n",
      "Current plambda: 0.05\n",
      "MF DONE\n",
      "Current RMSE: 0.889797366037\n",
      "--------------------------------\n",
      "Current plambda: 0.075\n",
      "MF DONE\n",
      "Current RMSE: 0.888033819047\n",
      "--------------------------------\n",
      "Current plambda: 0.1\n",
      "MF DONE\n",
      "Current RMSE: 0.889781552445\n",
      "--------------------------------\n",
      "Current plambda: 0.11\n",
      "MF DONE\n",
      "Current RMSE: 0.891364313217\n",
      "--------------------------------\n",
      "Current plambda: 0.12\n",
      "MF DONE\n",
      "Current RMSE: 0.893411301741\n",
      "--------------------------------\n",
      "Current plambda: 0.13\n",
      "MF DONE\n",
      "Current RMSE: 0.89589368504\n",
      "--------------------------------\n",
      "Current plambda: 0.14\n",
      "MF DONE\n",
      "Current RMSE: 0.898782495343\n",
      "--------------------------------\n",
      "Current plambda: 0.15\n",
      "MF DONE\n",
      "Current RMSE: 0.90204856879\n",
      "--------------------------------\n",
      "min RMSE: 0.888033819047\n"
     ]
    },
    {
     "data": {
      "image/png": "[encoded data removed]",
      "text/plain": [
       "<matplotlib.figure.Figure at 0x1f57b5c8c50>"
      ]
     },
     "metadata": {},
     "output_type": "display_data"
    },
    {
     "name": "stdout",
     "output_type": "stream",
     "text": [
      "level: 3\n",
      "Rating Number of level 3: 2411095\n",
      "Current plambda: 0.005\n",
      "MF DONE\n",
      "Current RMSE: 0.945018389491\n",
      "--------------------------------\n",
      "Current plambda: 0.025\n",
      "MF DONE\n",
      "Current RMSE: 0.918758692727\n",
      "--------------------------------\n",
      "Current plambda: 0.05\n",
      "MF DONE\n",
      "Current RMSE: 0.905081317683\n",
      "--------------------------------\n",
      "Current plambda: 0.075\n",
      "MF DONE\n",
      "Current RMSE: 0.898268377495\n",
      "--------------------------------\n",
      "Current plambda: 0.1\n",
      "MF DONE\n",
      "Current RMSE: 0.896532380694\n",
      "--------------------------------\n",
      "Current plambda: 0.11\n",
      "MF DONE\n",
      "Current RMSE: 0.897059889577\n",
      "--------------------------------\n",
      "Current plambda: 0.12\n",
      "MF DONE\n",
      "Current RMSE: 0.898207075861\n",
      "--------------------------------\n",
      "Current plambda: 0.13\n",
      "MF DONE\n",
      "Current RMSE: 0.8999152749\n",
      "--------------------------------\n",
      "Current plambda: 0.14\n",
      "MF DONE\n",
      "Current RMSE: 0.902126760305\n",
      "--------------------------------\n",
      "Current plambda: 0.15\n",
      "MF DONE\n",
      "Current RMSE: 0.904789234833\n",
      "--------------------------------\n",
      "min RMSE: 0.896532380694\n"
     ]
    },
    {
     "data": {
      "image/png": "[encoded data removed]",
      "text/plain": [
       "<matplotlib.figure.Figure at 0x1f56bf65128>"
      ]
     },
     "metadata": {},
     "output_type": "display_data"
    },
    {
     "name": "stdout",
     "output_type": "stream",
     "text": [
      "level: 4\n",
      "Rating Number of level 4: 4651876\n",
      "Current plambda: 0.005\n",
      "MF DONE\n",
      "Current RMSE: 0.939523109964\n",
      "--------------------------------\n",
      "Current plambda: 0.025\n",
      "MF DONE\n",
      "Current RMSE: 0.916714846057\n",
      "--------------------------------\n",
      "Current plambda: 0.05\n",
      "MF DONE\n",
      "Current RMSE: 0.901836058326\n",
      "--------------------------------\n",
      "Current plambda: 0.075\n",
      "MF DONE\n",
      "Current RMSE: 0.893651986921\n",
      "--------------------------------\n",
      "Current plambda: 0.1\n",
      "MF DONE\n",
      "Current RMSE: 0.891040266508\n",
      "--------------------------------\n",
      "Current plambda: 0.11\n",
      "MF DONE\n",
      "Current RMSE: 0.891364862221\n",
      "--------------------------------\n",
      "Current plambda: 0.12\n",
      "MF DONE\n",
      "Current RMSE: 0.892373595044\n",
      "--------------------------------\n",
      "Current plambda: 0.13\n",
      "MF DONE\n",
      "Current RMSE: 0.89399613204\n",
      "--------------------------------\n",
      "Current plambda: 0.14\n",
      "MF DONE\n",
      "Current RMSE: 0.896130473382\n",
      "--------------------------------\n",
      "Current plambda: 0.15\n",
      "MF DONE\n",
      "Current RMSE: 0.898611610831\n",
      "--------------------------------\n",
      "min RMSE: 0.891040266508\n"
     ]
    },
    {
     "data": {
      "image/png": "[encoded data removed]",
      "text/plain": [
       "<matplotlib.figure.Figure at 0x1f5872b9f28>"
      ]
     },
     "metadata": {},
     "output_type": "display_data"
    },
    {
     "name": "stdout",
     "output_type": "stream",
     "text": [
      "level: 5\n",
      "Rating Number of level 5: 7673761\n",
      "Current plambda: 0.005\n",
      "MF DONE\n",
      "Current RMSE: 0.943371229239\n",
      "--------------------------------\n",
      "Current plambda: 0.025\n",
      "MF DONE\n",
      "Current RMSE: 0.918843895172\n",
      "--------------------------------\n",
      "Current plambda: 0.05\n",
      "MF DONE\n",
      "Current RMSE: 0.902312127193\n",
      "--------------------------------\n",
      "Current plambda: 0.075\n",
      "MF DONE\n",
      "Current RMSE: 0.893392939865\n",
      "--------------------------------\n",
      "Current plambda: 0.1\n",
      "MF DONE\n",
      "Current RMSE: 0.890433733442\n",
      "--------------------------------\n",
      "Current plambda: 0.11\n",
      "MF DONE\n",
      "Current RMSE: 0.89063079358\n",
      "--------------------------------\n",
      "Current plambda: 0.12\n",
      "MF DONE\n",
      "Current RMSE: 0.891469862346\n",
      "--------------------------------\n",
      "Current plambda: 0.13\n",
      "MF DONE\n",
      "Current RMSE: 0.892809211085\n",
      "--------------------------------\n",
      "Current plambda: 0.14\n",
      "MF DONE\n",
      "Current RMSE: 0.894478173406\n",
      "--------------------------------\n",
      "Current plambda: 0.15\n",
      "MF DONE\n",
      "Current RMSE: 0.896408553747\n",
      "--------------------------------\n",
      "min RMSE: 0.890433733442\n"
     ]
    },
    {
     "data": {
      "image/png": "[encoded data removed]",
      "text/plain": [
       "<matplotlib.figure.Figure at 0x1f5871ebfd0>"
      ]
     },
     "metadata": {},
     "output_type": "display_data"
    },
    {
     "name": "stdout",
     "output_type": "stream",
     "text": [
      "level: 6\n",
      "Rating Number of level 6: 10747803\n",
      "Current plambda: 0.005\n",
      "MF DONE\n",
      "Current RMSE: 0.968054959681\n",
      "--------------------------------\n",
      "Current plambda: 0.025\n",
      "MF DONE\n",
      "Current RMSE: 0.933799360034\n",
      "--------------------------------\n",
      "Current plambda: 0.05\n",
      "MF DONE\n",
      "Current RMSE: 0.914884458668\n",
      "--------------------------------\n",
      "Current plambda: 0.075\n",
      "MF DONE\n",
      "Current RMSE: 0.905279632171\n",
      "--------------------------------\n",
      "Current plambda: 0.1\n",
      "MF DONE\n",
      "Current RMSE: 0.901492362154\n",
      "--------------------------------\n",
      "Current plambda: 0.11\n",
      "MF DONE\n",
      "Current RMSE: 0.901231874489\n",
      "--------------------------------\n",
      "Current plambda: 0.12\n",
      "MF DONE\n",
      "Current RMSE: 0.901521878685\n",
      "--------------------------------\n",
      "Current plambda: 0.13\n",
      "MF DONE\n",
      "Current RMSE: 0.902240759717\n",
      "--------------------------------\n",
      "Current plambda: 0.14\n",
      "MF DONE\n",
      "Current RMSE: 0.903322419331\n",
      "--------------------------------\n",
      "Current plambda: 0.15\n",
      "MF DONE\n",
      "Current RMSE: 0.904691926803\n",
      "--------------------------------\n",
      "min RMSE: 0.901231874489\n"
     ]
    },
    {
     "data": {
      "image/png": "[encoded data removed]",
      "text/plain": [
       "<matplotlib.figure.Figure at 0x1f54c8b2160>"
      ]
     },
     "metadata": {},
     "output_type": "display_data"
    },
    {
     "name": "stdout",
     "output_type": "stream",
     "text": [
      "level: 7\n",
      "Rating Number of level 7: 12899498\n",
      "Current plambda: 0.005\n",
      "MF DONE\n",
      "Current RMSE: 1.00439264982\n",
      "--------------------------------\n",
      "Current plambda: 0.025\n",
      "MF DONE\n",
      "Current RMSE: 0.957663881806\n",
      "--------------------------------\n",
      "Current plambda: 0.05\n",
      "MF DONE\n",
      "Current RMSE: 0.933864413534\n",
      "--------------------------------\n",
      "Current plambda: 0.075\n",
      "MF DONE\n",
      "Current RMSE: 0.921844397544\n",
      "--------------------------------\n",
      "Current plambda: 0.1\n",
      "MF DONE\n",
      "Current RMSE: 0.915830040385\n",
      "--------------------------------\n",
      "Current plambda: 0.11\n",
      "MF DONE\n",
      "Current RMSE: 0.914598619282\n",
      "--------------------------------\n",
      "Current plambda: 0.12\n",
      "MF DONE\n",
      "Current RMSE: 0.914003816953\n",
      "--------------------------------\n",
      "Current plambda: 0.13\n",
      "MF DONE\n",
      "Current RMSE: 0.91391913448\n",
      "--------------------------------\n",
      "Current plambda: 0.14\n",
      "MF DONE\n",
      "Current RMSE: 0.914260973483\n",
      "--------------------------------\n",
      "Current plambda: 0.15\n",
      "MF DONE\n",
      "Current RMSE: 0.915038425947\n",
      "--------------------------------\n",
      "min RMSE: 0.91391913448\n"
     ]
    },
    {
     "data": {
      "image/png": "[encoded data removed]",
      "text/plain": [
       "<matplotlib.figure.Figure at 0x1f578b91860>"
      ]
     },
     "metadata": {},
     "output_type": "display_data"
    },
    {
     "name": "stdout",
     "output_type": "stream",
     "text": [
      "level: 8\n",
      "Rating Number of level 8: 13742540\n",
      "Current plambda: 0.005\n",
      "MF DONE\n",
      "Current RMSE: 1.15440435705\n",
      "--------------------------------\n",
      "Current plambda: 0.025\n",
      "MF DONE\n",
      "Current RMSE: 1.06727499606\n",
      "--------------------------------\n",
      "Current plambda: 0.05\n",
      "MF DONE\n",
      "Current RMSE: 1.03697003191\n",
      "--------------------------------\n",
      "Current plambda: 0.075\n",
      "MF DONE\n",
      "Current RMSE: 1.01973208685\n",
      "--------------------------------\n",
      "Current plambda: 0.1\n",
      "MF DONE\n",
      "Current RMSE: 1.00660689513\n",
      "--------------------------------\n",
      "Current plambda: 0.11\n",
      "MF DONE\n",
      "Current RMSE: 1.00204490684\n",
      "--------------------------------\n",
      "Current plambda: 0.12\n",
      "MF DONE\n",
      "Current RMSE: 0.998170174057\n",
      "--------------------------------\n",
      "Current plambda: 0.13\n",
      "MF DONE\n"
     ]
    },
    {
     "ename": "KeyboardInterrupt",
     "evalue": "",
     "output_type": "error",
     "traceback": [
      "\u001b[1;31m---------------------------------------------------------------------------\u001b[0m",
      "\u001b[1;31mKeyboardInterrupt\u001b[0m                         Traceback (most recent call last)",
      "\u001b[1;32m<ipython-input-14-80a83609f29c>\u001b[0m in \u001b[0;36m<module>\u001b[1;34m()\u001b[0m\n\u001b[0;32m     52\u001b[0m                 \u001b[0mrated_user\u001b[0m \u001b[1;33m=\u001b[0m \u001b[1;33m[\u001b[0m\u001b[0mint\u001b[0m\u001b[1;33m(\u001b[0m\u001b[0mi\u001b[0m\u001b[1;33m-\u001b[0m\u001b[1;36m1\u001b[0m\u001b[1;33m)\u001b[0m \u001b[1;32mfor\u001b[0m \u001b[0mi\u001b[0m \u001b[1;32min\u001b[0m \u001b[0mlist\u001b[0m\u001b[1;33m(\u001b[0m\u001b[0mset\u001b[0m\u001b[1;33m(\u001b[0m\u001b[0mrated_users\u001b[0m\u001b[1;33m[\u001b[0m\u001b[0mitemid\u001b[0m\u001b[1;33m]\u001b[0m\u001b[1;33m[\u001b[0m\u001b[1;36m0\u001b[0m\u001b[1;33m]\u001b[0m\u001b[1;33m)\u001b[0m\u001b[1;33m)\u001b[0m\u001b[1;33m]\u001b[0m\u001b[1;33m\u001b[0m\u001b[0m\n\u001b[0;32m     53\u001b[0m \u001b[1;33m\u001b[0m\u001b[0m\n\u001b[1;32m---> 54\u001b[1;33m             \u001b[0mP_test\u001b[0m\u001b[1;33m[\u001b[0m\u001b[1;33m:\u001b[0m\u001b[1;33m,\u001b[0m \u001b[0mitemid\u001b[0m\u001b[1;33m]\u001b[0m \u001b[1;33m=\u001b[0m \u001b[0mprediction_model\u001b[0m\u001b[1;33m[\u001b[0m\u001b[0mstr\u001b[0m\u001b[1;33m(\u001b[0m\u001b[0mfinal_level\u001b[0m\u001b[1;33m)\u001b[0m\u001b[1;33m]\u001b[0m\u001b[1;33m[\u001b[0m\u001b[1;34m'P'\u001b[0m\u001b[1;33m]\u001b[0m\u001b[1;33m[\u001b[0m\u001b[1;33m:\u001b[0m\u001b[1;33m,\u001b[0m \u001b[0mpred_index\u001b[0m\u001b[1;33m]\u001b[0m\u001b[1;33m\u001b[0m\u001b[0m\n\u001b[0m\u001b[0;32m     55\u001b[0m             \u001b[0mrating_matrix_test_unqueried\u001b[0m\u001b[1;33m[\u001b[0m\u001b[0mrated_user\u001b[0m\u001b[1;33m,\u001b[0m \u001b[0mitemid\u001b[0m\u001b[1;33m]\u001b[0m \u001b[1;33m=\u001b[0m \u001b[1;36m0\u001b[0m\u001b[1;33m\u001b[0m\u001b[0m\n\u001b[0;32m     56\u001b[0m \u001b[1;33m\u001b[0m\u001b[0m\n",
      "\u001b[1;31mKeyboardInterrupt\u001b[0m: "
     ]
    }
   ],
   "source": [
    "prediction_model = {}\n",
    "rmst_dict = {\"0\":[],\"1\":[],\"2\":[],\"3\":[],\"4\":[],\"5\":[],\"6\":[],\"7\":[],\"8\":[],\"9\":[],\"10\":[]}\n",
    "min_rmse_list = []\n",
    "\n",
    "for level in range(depth_threshold):\n",
    "#     if level < 5:\n",
    "#         continue\n",
    "    with h5py.File('treeFile/targetNode_' + str(level + 1) + '.mat') as data:\n",
    "        targetNode = [data[element[0]][:] for element in data['targetNode']]\n",
    "    with h5py.File('treeFile/rated_user_' + str(level + 1) + '.mat') as data:\n",
    "        rated_users = [data[element[0]][:] for element in data['rated_user']]\n",
    "    \n",
    "    level = str(level)\n",
    "    print(\"level:\", level)    \n",
    "                   \n",
    "    prediction_model.setdefault(level, {})\n",
    "    train_lst = []    \n",
    "    \n",
    "    for pseudo_item_bound, itemid in zip(lr_bound[level], range(len(lr_bound[level]))):\n",
    "        if pseudo_item_bound[0] > pseudo_item_bound[1]:\n",
    "            continue\n",
    "        pseudo_item_lst = tree[pseudo_item_bound[0]:(pseudo_item_bound[1] + 1)]\n",
    "        pseudo_matrix = np.array(rating_matrix_train[:, pseudo_item_lst].sum(axis=1))[:,0] / \\\n",
    "                                     (rating_matrix_train[:, pseudo_item_lst].getnnz(axis=1)+1e-9)\n",
    "        train_lst += [(itemid, userid, float(pseudo_matrix[userid])) \\\n",
    "                      for userid in range(pseudo_matrix.shape[0]) if pseudo_matrix[userid]]        \n",
    "\n",
    "    print(\"Rating Number of level \" + level + \": \" + str(len(train_lst)))\n",
    "    \n",
    "    #### Train MF and Do validation ####\n",
    "    min_RMSE = -1\n",
    "    user_profile_list = []\n",
    "    item_profile_list = []\n",
    "    for plambda in lambda_list:\n",
    "#         if int(level) == 5 and plambda <= 0.075:\n",
    "#             continue\n",
    "        print(\"Current plambda: \" + str(plambda))\n",
    "        MF.change_parameter(plambda)\n",
    "        user_profile, item_profile = MF.matrix_factorization(train_lst)\n",
    "        user_profile_list.append(user_profile)\n",
    "        item_profile_list.append(item_profile)\n",
    "        prediction_model[level]['P'], prediction_model[level]['plambda'] \\\n",
    "                                         = np.dot(np.array(list(user_profile.values())), np.array(list(item_profile.values())).T), plambda\n",
    "            \n",
    "        P_test = np.zeros(rating_matrix_test.shape)\n",
    "        rating_matrix_test_unqueried = rating_matrix_test.toarray()\n",
    "        for itemid in range(rating_matrix_test.shape[1]):\n",
    "#             if itemid  % 2000 == 0:\n",
    "#                 print(\"%.2f%%\" % (100 * itemid / rating_matrix_test.shape[1]))      \n",
    "            pred_index = int(targetNode[itemid].T[0][1]) - 1\n",
    "            final_level = int(targetNode[itemid].T[0][0]) - 1\n",
    "            if rated_users[itemid].sum() == 0 or np.sum(rated_users[itemid] == [1, 0]):\n",
    "                rated_user = []\n",
    "            else:\n",
    "                rated_user = [int(i-1) for i in list(set(rated_users[itemid][0]))]\n",
    "                \n",
    "            P_test[:, itemid] = prediction_model[str(final_level)]['P'][:, pred_index]\n",
    "            rating_matrix_test_unqueried[rated_user, itemid] = 0\n",
    "\n",
    "        rating_matrix_test_unqueried = csc_matrix(rating_matrix_test_unqueried)\n",
    "        P_test = (rating_matrix_test_unqueried!=0).multiply(P_test)\n",
    "        dif = P_test - rating_matrix_test_unqueried\n",
    "        RMSE = ( dif.multiply(dif).sum() / (rating_matrix_test_unqueried!=0).sum() )**0.5\n",
    "        print(\"Current RMSE: \" + str(RMSE))\n",
    "        print(\"--------------------------------\")\n",
    "        rmst_dict[level].append(RMSE)\n",
    "        \n",
    "    min_MF = rmst_dict[level].index(min(rmst_dict[level]))   \n",
    "    prediction_model[level]['upro'] = user_profile_list[min_MF]\n",
    "    prediction_model[level]['ipro'] = item_profile_list[min_MF]\n",
    "    prediction_model[level]['plambda'] = lambda_list[min_MF]\n",
    "    print(\"min RMSE: \" + str(min(rmst_dict[level])))\n",
    "    min_rmse_list.append(min(rmst_dict[level]))\n",
    "    \n",
    "    plt.figure(1)\n",
    "    plt.title('RMSE for level ' + level)\n",
    "    plt.xlabel('plambda')\n",
    "    plt.ylabel('RMSE')\n",
    "    plt.plot(lambda_list, rmst_dict[level])\n",
    "    plt.show()"
   ]
  },
  {
   "cell_type": "code",
   "execution_count": 12,
   "metadata": {
    "scrolled": false
   },
   "outputs": [
    {
     "name": "stdout",
     "output_type": "stream",
     "text": [
      "SparkSession stopped.\n"
     ]
    }
   ],
   "source": [
    "MF.end()"
   ]
  },
  {
   "cell_type": "code",
   "execution_count": 33,
   "metadata": {
    "collapsed": true
   },
   "outputs": [],
   "source": [
    "import klepto\n",
    "Tree = klepto.archives.dir_archive('treeFile', cached=True, serialized=True)\n",
    "Tree['prediction_model'] = prediction_model\n",
    "Tree.dump()\n",
    "Tree.clear()"
   ]
  },
  {
   "cell_type": "code",
   "execution_count": 34,
   "metadata": {},
   "outputs": [
    {
     "data": {
      "image/png": "[encoded data removed]",
      "text/plain": [
       "<matplotlib.figure.Figure at 0x15d9ee767f0>"
      ]
     },
     "metadata": {},
     "output_type": "display_data"
    }
   ],
   "source": [
    "plt.figure(1)\n",
    "plt.xlabel('level')\n",
    "plt.ylabel('min RMSE')\n",
    "plt.plot(list(range(depth_threshold)), min_rmse_list)\n",
    "plt.show()"
   ]
  },
  {
   "cell_type": "code",
   "execution_count": 35,
   "metadata": {
    "collapsed": true
   },
   "outputs": [],
   "source": [
    "for i in range(depth_threshold):\n",
    "    sio.savemat('rmse_list' + str(i) + '.mat', {'rmse_list': rmst_dict[str(i)]})"
   ]
  },
  {
   "cell_type": "code",
   "execution_count": 36,
   "metadata": {
    "collapsed": true
   },
   "outputs": [],
   "source": [
    "sio.savemat('min_rmse_list.mat', {'min_rmse_list':min_rmse_list})"
   ]
  },
  {
   "cell_type": "code",
   "execution_count": null,
   "metadata": {
    "collapsed": true
   },
   "outputs": [],
   "source": []
  }
 ],
 "metadata": {
  "kernelspec": {
   "display_name": "Python 3",
   "language": "python",
   "name": "python3"
  },
  "language_info": {
   "codemirror_mode": {
    "name": "ipython",
    "version": 3
   },
   "file_extension": ".py",
   "mimetype": "text/x-python",
   "name": "python",
   "nbconvert_exporter": "python",
   "pygments_lexer": "ipython3",
   "version": "3.5.4"
  }
 },
 "nbformat": 4,
 "nbformat_minor": 1
}
