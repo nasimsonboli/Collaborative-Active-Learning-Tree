{
 "cells": [
  {
   "cell_type": "code",
   "execution_count": 1,
   "metadata": {},
   "outputs": [
    {
     "name": "stderr",
     "output_type": "stream",
     "text": [
      "c:\\users\\zzhno\\anaconda3\\envs\\py35\\lib\\site-packages\\h5py\\__init__.py:36: FutureWarning: Conversion of the second argument of issubdtype from `float` to `np.floating` is deprecated. In future, it will be treated as `np.float64 == np.dtype(float).type`.\n",
      "  from ._conv import register_converters as _register_converters\n"
     ]
    }
   ],
   "source": [
    "import random as rd\n",
    "import numpy as np\n",
    "import h5py\n",
    "import klepto\n",
    "import shelve\n",
    "import pickle\n",
    "import scipy.io as sio\n",
    "from scipy.sparse import *"
   ]
  },
  {
   "cell_type": "markdown",
   "metadata": {},
   "source": [
    "## Input Prediction Model"
   ]
  },
  {
   "cell_type": "code",
   "execution_count": 2,
   "metadata": {
    "scrolled": true
   },
   "outputs": [
    {
     "name": "stdout",
     "output_type": "stream",
     "text": [
      "1\n",
      "2\n",
      "3\n"
     ]
    }
   ],
   "source": [
    "import shelve\n",
    "import pickle\n",
    "prediction_model = {}\n",
    "tree_num = 3\n",
    "dataset = '1m'\n",
    "\n",
    "for i in range(tree_num):\n",
    "    print(i + 1)\n",
    "    with shelve.open(\"test_\" + dataset + \"/\" + str(i + 1) + \"/P_test\", protocol=pickle.HIGHEST_PROTOCOL) as d:\n",
    "        P_test = d['content']\n",
    "    with shelve.open(\"test_\" + dataset + \"/\" + str(i + 1) + \"/rated_matrix\", protocol=pickle.HIGHEST_PROTOCOL) as d:\n",
    "        rated_matrix = d['content']\n",
    "    prediction_model[i] = {'P_test': P_test, 'rated_matrix': rated_matrix}"
   ]
  },
  {
   "cell_type": "markdown",
   "metadata": {},
   "source": [
    "## Input Test item info"
   ]
  },
  {
   "cell_type": "code",
   "execution_count": 3,
   "metadata": {},
   "outputs": [],
   "source": [
    "feature=h5py.File('movielens/' + dataset + '/test_list.mat')  \n",
    "test_list = feature['test_list'][:]\n",
    "test_list = list(map(int, test_list.T[0]))\n",
    "test_list = [i-1 for i in test_list] \n",
    "feature=h5py.File('movielens/' + dataset + '/train_list.mat')  \n",
    "train_list = feature['train_list'][:]\n",
    "train_list = list(map(int, train_list.T[0]))\n",
    "train_list = [i-1 for i in train_list] "
   ]
  },
  {
   "cell_type": "code",
   "execution_count": 4,
   "metadata": {},
   "outputs": [
    {
     "name": "stdout",
     "output_type": "stream",
     "text": [
      "file load DONE\n"
     ]
    }
   ],
   "source": [
    "rating_matrix = load_npz('movielens/sparse_matrix_ml-' + dataset + '_selected.npz').tocsc()\n",
    "rating_matrix_train = rating_matrix[:, train_list]\n",
    "rating_matrix_test  = rating_matrix[:, test_list]\n",
    "print(\"file load DONE\")\n",
    "rating_matrix_test = rating_matrix_test.toarray()"
   ]
  },
  {
   "cell_type": "markdown",
   "metadata": {},
   "source": [
    "## RMSE of model, RMSE of different rating "
   ]
  },
  {
   "cell_type": "code",
   "execution_count": 5,
   "metadata": {},
   "outputs": [],
   "source": [
    "tree_res = {}\n",
    "for i in range(tree_num):\n",
    "    tree_res[i] = []\n",
    "for itemid in range(rating_matrix_test.shape[1]):\n",
    "    model_ind = rd.randint(0, tree_num-1)\n",
    "    tree_res[model_ind].append(itemid)"
   ]
  },
  {
   "cell_type": "code",
   "execution_count": 6,
   "metadata": {},
   "outputs": [],
   "source": [
    "with shelve.open(\"tree_res\", protocol=pickle.HIGHEST_PROTOCOL) as d:\n",
    "    d['content'] = tree_res"
   ]
  },
  {
   "cell_type": "code",
   "execution_count": 7,
   "metadata": {},
   "outputs": [],
   "source": [
    "with shelve.open(\"tree_res\", protocol=pickle.HIGHEST_PROTOCOL) as d:\n",
    "    tree_res = d['content']"
   ]
  },
  {
   "cell_type": "code",
   "execution_count": 7,
   "metadata": {},
   "outputs": [
    {
     "name": "stdout",
     "output_type": "stream",
     "text": [
      "0\n",
      "1\n",
      "2\n"
     ]
    }
   ],
   "source": [
    "P_test = np.zeros(rating_matrix_test.shape)\n",
    "rated_matrix = np.zeros(rating_matrix_test.shape)\n",
    "\n",
    "for i in range(tree_num):\n",
    "    print(i)\n",
    "    P_test[:, tree_res[i]] = (prediction_model[i]['P_test'].tocsc())[:, tree_res[i]].toarray()\n",
    "    rated_matrix[:, tree_res[i]] = (prediction_model[i]['rated_matrix'])[:, tree_res[i]]\n",
    "\n",
    "P_test *= rated_matrix\n",
    "rating_matrix_test_unqueried = rating_matrix_test * rated_matrix \n",
    "del prediction_model\n",
    "\n",
    "dif_pow = P_test - rating_matrix_test_unqueried\n",
    "del P_test\n",
    "dif_pow =  dif_pow * dif_pow"
   ]
  },
  {
   "cell_type": "code",
   "execution_count": 8,
   "metadata": {},
   "outputs": [
    {
     "data": {
      "text/plain": [
       "0.9229297143797129"
      ]
     },
     "execution_count": 8,
     "metadata": {},
     "output_type": "execute_result"
    }
   ],
   "source": [
    "RMSE = (dif_pow.sum() / (rating_matrix_test_unqueried!=0).sum() )**0.5\n",
    "RMSE"
   ]
  },
  {
   "cell_type": "code",
   "execution_count": 9,
   "metadata": {},
   "outputs": [
    {
     "data": {
      "text/plain": [
       "1.1817059379238501"
      ]
     },
     "execution_count": 9,
     "metadata": {},
     "output_type": "execute_result"
    }
   ],
   "source": [
    "control = rating_matrix_test_unqueried > 4.5\n",
    "RMSE_1 = ((dif_pow * control).sum() / control.sum() )**0.5\n",
    "RMSE_1"
   ]
  },
  {
   "cell_type": "code",
   "execution_count": 10,
   "metadata": {},
   "outputs": [
    {
     "data": {
      "text/plain": [
       "0.6162024496338405"
      ]
     },
     "execution_count": 10,
     "metadata": {},
     "output_type": "execute_result"
    }
   ],
   "source": [
    "control = ((rating_matrix_test_unqueried > 3.5) * 1) * ((rating_matrix_test_unqueried <= 4.5) * 1)\n",
    "RMSE_2 = ((dif_pow * control).sum() / control.sum() )**0.5\n",
    "RMSE_2"
   ]
  },
  {
   "cell_type": "code",
   "execution_count": 11,
   "metadata": {},
   "outputs": [
    {
     "data": {
      "text/plain": [
       "0.6050199758146687"
      ]
     },
     "execution_count": 11,
     "metadata": {},
     "output_type": "execute_result"
    }
   ],
   "source": [
    "control = ((rating_matrix_test_unqueried > 2.5) * 1) * ((rating_matrix_test_unqueried <= 3.5) * 1)\n",
    "RMSE_3 = ((dif_pow * control).sum() / control.sum() )**0.5\n",
    "RMSE_3"
   ]
  },
  {
   "cell_type": "code",
   "execution_count": 12,
   "metadata": {},
   "outputs": [
    {
     "data": {
      "text/plain": [
       "1.1264747702208164"
      ]
     },
     "execution_count": 12,
     "metadata": {},
     "output_type": "execute_result"
    }
   ],
   "source": [
    "control = ((rating_matrix_test_unqueried > 1.5) * 1) * ((rating_matrix_test_unqueried <= 2.5) * 1)\n",
    "RMSE_4 = ((dif_pow * control).sum() / control.sum() )**0.5\n",
    "RMSE_4"
   ]
  },
  {
   "cell_type": "code",
   "execution_count": 13,
   "metadata": {},
   "outputs": [
    {
     "data": {
      "text/plain": [
       "1.7783487383336931"
      ]
     },
     "execution_count": 13,
     "metadata": {},
     "output_type": "execute_result"
    }
   ],
   "source": [
    "control = ((rating_matrix_test_unqueried != 0) * 1) * ((rating_matrix_test_unqueried <= 1.5) * 1)\n",
    "RMSE_5 = ((dif_pow * control).sum() / control.sum() )**0.5\n",
    "RMSE_5"
   ]
  },
  {
   "cell_type": "markdown",
   "metadata": {},
   "source": [
    "- 20m"
   ]
  },
  {
   "cell_type": "code",
   "execution_count": 9,
   "metadata": {},
   "outputs": [
    {
     "data": {
      "text/plain": [
       "0.8796851258267778"
      ]
     },
     "execution_count": 9,
     "metadata": {},
     "output_type": "execute_result"
    }
   ],
   "source": [
    "RMSE = (dif_pow.sum() / (rating_matrix_test_unqueried!=0).sum() )**0.5\n",
    "RMSE"
   ]
  },
  {
   "cell_type": "code",
   "execution_count": 11,
   "metadata": {},
   "outputs": [
    {
     "data": {
      "text/plain": [
       "1.1945656569597722"
      ]
     },
     "execution_count": 11,
     "metadata": {},
     "output_type": "execute_result"
    }
   ],
   "source": [
    "control = rating_matrix_test_unqueried > 4.5\n",
    "RMSE_1 = ((dif_pow * control).sum() / control.sum() )**0.5\n",
    "RMSE_1"
   ]
  },
  {
   "cell_type": "code",
   "execution_count": 12,
   "metadata": {},
   "outputs": [
    {
     "data": {
      "text/plain": [
       "0.6714199640848323"
      ]
     },
     "execution_count": 12,
     "metadata": {},
     "output_type": "execute_result"
    }
   ],
   "source": [
    "control = ((rating_matrix_test_unqueried > 3.5) * 1) * ((rating_matrix_test_unqueried <= 4.5) * 1)\n",
    "RMSE_2 = ((dif_pow * control).sum() / control.sum() )**0.5\n",
    "RMSE_2"
   ]
  },
  {
   "cell_type": "code",
   "execution_count": 13,
   "metadata": {},
   "outputs": [
    {
     "data": {
      "text/plain": [
       "0.5329258656027343"
      ]
     },
     "execution_count": 13,
     "metadata": {},
     "output_type": "execute_result"
    }
   ],
   "source": [
    "control = ((rating_matrix_test_unqueried > 2.5) * 1) * ((rating_matrix_test_unqueried <= 3.5) * 1)\n",
    "RMSE_3 = ((dif_pow * control).sum() / control.sum() )**0.5\n",
    "RMSE_3"
   ]
  },
  {
   "cell_type": "code",
   "execution_count": 14,
   "metadata": {},
   "outputs": [
    {
     "data": {
      "text/plain": [
       "0.9729791924078471"
      ]
     },
     "execution_count": 14,
     "metadata": {},
     "output_type": "execute_result"
    }
   ],
   "source": [
    "control = ((rating_matrix_test_unqueried > 1.5) * 1) * ((rating_matrix_test_unqueried <= 2.5) * 1)\n",
    "RMSE_4 = ((dif_pow * control).sum() / control.sum() )**0.5\n",
    "RMSE_4"
   ]
  },
  {
   "cell_type": "code",
   "execution_count": 12,
   "metadata": {},
   "outputs": [
    {
     "data": {
      "text/plain": [
       "1.8282835089670466"
      ]
     },
     "execution_count": 12,
     "metadata": {},
     "output_type": "execute_result"
    }
   ],
   "source": [
    "control = ((rating_matrix_test_unqueried != 0) * 1) * ((rating_matrix_test_unqueried <= 1.5) * 1)\n",
    "RMSE_5 = ((dif_pow * control).sum() / control.sum() )**0.5\n",
    "RMSE_5"
   ]
  },
  {
   "cell_type": "markdown",
   "metadata": {},
   "source": [
    "## Multiple Trees"
   ]
  },
  {
   "cell_type": "code",
   "execution_count": 9,
   "metadata": {},
   "outputs": [],
   "source": [
    "selectNum = 9\n",
    "\n",
    "#new items for each tree\n",
    "tree_res = {}\n",
    "\n",
    "P_test = np.zeros(rating_matrix_test.shape)\n",
    "rated_matrix = np.zeros(rating_matrix_test.shape)\n",
    "rated_matrix = rated_matrix == 0\n",
    "\n",
    "for i in range(tree_num):\n",
    "    tree_res[i] = []\n",
    "for itemid in range(rating_matrix_test.shape[1]):\n",
    "    rand_list = rd.sample(list(range(10)), selectNum) \n",
    "    for j in rand_list:\n",
    "        tree_res[j].append(itemid)\n",
    "        rated_matrix[:, itemid] = rated_matrix[:, itemid] * prediction_model[j]['rated_matrix'][:, itemid]\n",
    "\n",
    "for i in range(tree_num):\n",
    "    P_test[:, tree_res[i]] += (prediction_model[i]['P_test'].tocsc())[:, tree_res[i]].toarray()\n",
    "\n",
    "P_test *= rated_matrix\n",
    "P_test /= selectNum\n",
    "\n",
    "rating_matrix_test_unqueried = rating_matrix_test * rated_matrix \n",
    "dif = P_test - rating_matrix_test_unqueried\n",
    "del P_test\n",
    "del rated_matrix\n",
    "RMSE = ((dif ** 2).sum() / (rating_matrix_test_unqueried!=0).sum() )**0.5"
   ]
  },
  {
   "cell_type": "code",
   "execution_count": 9,
   "metadata": {},
   "outputs": [
    {
     "data": {
      "text/plain": [
       "0.8797330233013486"
      ]
     },
     "execution_count": 9,
     "metadata": {},
     "output_type": "execute_result"
    }
   ],
   "source": [
    "RMSE #1"
   ]
  },
  {
   "cell_type": "code",
   "execution_count": 11,
   "metadata": {},
   "outputs": [
    {
     "data": {
      "text/plain": [
       "0.8697207456908191"
      ]
     },
     "execution_count": 11,
     "metadata": {},
     "output_type": "execute_result"
    }
   ],
   "source": [
    "RMSE #2"
   ]
  },
  {
   "cell_type": "code",
   "execution_count": 13,
   "metadata": {},
   "outputs": [
    {
     "data": {
      "text/plain": [
       "0.8661427117047424"
      ]
     },
     "execution_count": 13,
     "metadata": {},
     "output_type": "execute_result"
    }
   ],
   "source": [
    "RMSE #3"
   ]
  },
  {
   "cell_type": "code",
   "execution_count": 15,
   "metadata": {},
   "outputs": [
    {
     "data": {
      "text/plain": [
       "0.8648910628647799"
      ]
     },
     "execution_count": 15,
     "metadata": {},
     "output_type": "execute_result"
    }
   ],
   "source": [
    "RMSE #4"
   ]
  },
  {
   "cell_type": "code",
   "execution_count": 27,
   "metadata": {},
   "outputs": [
    {
     "data": {
      "text/plain": [
       "0.8642835845593122"
      ]
     },
     "execution_count": 27,
     "metadata": {},
     "output_type": "execute_result"
    }
   ],
   "source": [
    "RMSE #5"
   ]
  },
  {
   "cell_type": "code",
   "execution_count": 29,
   "metadata": {},
   "outputs": [
    {
     "data": {
      "text/plain": [
       "0.8642830145940552"
      ]
     },
     "execution_count": 29,
     "metadata": {},
     "output_type": "execute_result"
    }
   ],
   "source": [
    "RMSE #6"
   ]
  },
  {
   "cell_type": "code",
   "execution_count": 31,
   "metadata": {},
   "outputs": [
    {
     "data": {
      "text/plain": [
       "0.8652061242546697"
      ]
     },
     "execution_count": 31,
     "metadata": {},
     "output_type": "execute_result"
    }
   ],
   "source": [
    "RMSE #7"
   ]
  },
  {
   "cell_type": "code",
   "execution_count": 6,
   "metadata": {},
   "outputs": [
    {
     "data": {
      "text/plain": [
       "0.86551417945201"
      ]
     },
     "execution_count": 6,
     "metadata": {},
     "output_type": "execute_result"
    }
   ],
   "source": [
    "RMSE #8"
   ]
  },
  {
   "cell_type": "code",
   "execution_count": 6,
   "metadata": {},
   "outputs": [
    {
     "data": {
      "text/plain": [
       "0.8663719295534278"
      ]
     },
     "execution_count": 6,
     "metadata": {},
     "output_type": "execute_result"
    }
   ],
   "source": [
    "RMSE #9"
   ]
  },
  {
   "cell_type": "code",
   "execution_count": 10,
   "metadata": {},
   "outputs": [
    {
     "data": {
      "text/plain": [
       "0.8660629056265818"
      ]
     },
     "execution_count": 10,
     "metadata": {},
     "output_type": "execute_result"
    }
   ],
   "source": [
    "RMSE #10"
   ]
  }
 ],
 "metadata": {
  "kernelspec": {
   "display_name": "Python 3",
   "language": "python",
   "name": "python3"
  },
  "language_info": {
   "codemirror_mode": {
    "name": "ipython",
    "version": 3
   },
   "file_extension": ".py",
   "mimetype": "text/x-python",
   "name": "python",
   "nbconvert_exporter": "python",
   "pygments_lexer": "ipython3",
   "version": "3.5.4"
  }
 },
 "nbformat": 4,
 "nbformat_minor": 2
}
